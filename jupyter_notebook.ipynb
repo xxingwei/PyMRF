{
 "cells": [
  {
   "cell_type": "code",
   "execution_count": null,
   "id": "6ab0d529",
   "metadata": {},
   "outputs": [],
   "source": [
    "#Set the repository path"
   ]
  },
  {
   "cell_type": "code",
   "execution_count": null,
   "id": "ae41b55e",
   "metadata": {},
   "outputs": [],
   "source": [
    "repo_path = r'D:\\00PythonData\\pyCPT\\pyMRF'"
   ]
  },
  {
   "cell_type": "code",
   "execution_count": null,
   "id": "e4fe1795",
   "metadata": {},
   "outputs": [],
   "source": [
    "#Import modules"
   ]
  },
  {
   "cell_type": "code",
   "execution_count": null,
   "id": "da944146",
   "metadata": {},
   "outputs": [],
   "source": [
    "import matplotlib.patches as mpatches\n",
    "import numpy as np\n",
    "import sys\n",
    "sys.path.append(repo_path)\n",
    "import pyMRF\n",
    "from pyMRF import get_init_labels_prob\n",
    "from pyMRF import draw_labels_vect\n",
    "from matplotlib import pyplot as plt"
   ]
  },
  {
   "cell_type": "code",
   "execution_count": null,
   "id": "c8e0cc62",
   "metadata": {},
   "outputs": [],
   "source": []
  },
  {
   "cell_type": "code",
   "execution_count": null,
   "id": "6bc55514",
   "metadata": {},
   "outputs": [],
   "source": [
    "#% Testing using incomplete image (column known pixels)\n",
    "\n",
    "init_field_full = np.load('D:/00PythonData/pyCPT/test_data/SIM_1_0_flat_pattern.npy') #2D\n",
    "\n",
    "plt.figure()\n",
    "plt.imshow(init_field_full)\n",
    "#\"\"\"\n",
    "legend_elements = [mpatches.Patch(facecolor='#411445', label='Label A'),\n",
    "                   mpatches.Patch(facecolor='darkcyan', label='Label B'),\n",
    "                   mpatches.Patch(facecolor='yellow', label='Label C')]\n",
    "#\"\"\"\n",
    "\n",
    "#plt.legend(handles=legend_elements, loc='lower right')\n",
    "#plt.vlines(known_idx, 0, 99.5, linewidth=4, colors = \"w\", linestyles = \"dashed\")\n",
    "plt.tick_params(labelsize=13)\n",
    "plt.xlabel('X pixel ID', fontsize=14)\n",
    "plt.ylabel('Y pixel ID', fontsize=14)\n",
    "plt.title('Original Stratigraphic Profile')\n",
    "plt.show()\n",
    "\n",
    "#%\n",
    "\n",
    "init_field_bh = np.empty(init_field_full.shape)\n",
    "init_field_bh[:] = np.nan\n",
    "\n",
    "#known_idx = np.array([0,10,19,30,39,50,59,70,79,90,99])\n",
    "#known_idx = np.array([0,19,39,59,79,99])\n",
    "#known_idx = np.array([0,25,50,75,99])\n",
    "known_idx = np.array([0,32,65,99])\n",
    "#known_idx = np.array([50])\n",
    "\n",
    "init_field_bh[:,known_idx] = init_field_full[:,known_idx]\n",
    "\n",
    "plt.figure()\n",
    "plt.imshow(init_field_bh)\n",
    "plt.tick_params(labelsize=13)\n",
    "plt.xlabel('X pixel ID', fontsize=14)\n",
    "plt.ylabel('Y pixel ID', fontsize=14)\n",
    "plt.show()"
   ]
  },
  {
   "cell_type": "code",
   "execution_count": 1,
   "id": "182afeb3",
   "metadata": {},
   "outputs": [
    {
     "name": "stdout",
     "output_type": "stream",
     "text": [
      "C:\\Users\\35088\n"
     ]
    }
   ],
   "source": [
    "import os\n",
    "print(os.path.abspath('.'))\n"
   ]
  },
  {
   "cell_type": "code",
   "execution_count": null,
   "id": "be2bdc51",
   "metadata": {},
   "outputs": [],
   "source": []
  }
 ],
 "metadata": {
  "kernelspec": {
   "display_name": "Python 3 (ipykernel)",
   "language": "python",
   "name": "python3"
  },
  "language_info": {
   "codemirror_mode": {
    "name": "ipython",
    "version": 3
   },
   "file_extension": ".py",
   "mimetype": "text/x-python",
   "name": "python",
   "nbconvert_exporter": "python",
   "pygments_lexer": "ipython3",
   "version": "3.8.13"
  }
 },
 "nbformat": 4,
 "nbformat_minor": 5
}
